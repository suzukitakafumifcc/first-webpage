{
 "cells": [
  {
   "cell_type": "markdown",
   "metadata": {},
   "source": [
    "# 最初の HTML Web ページを作成する\n",
    "\n",
    "Microsoft Learn のトレーニングに従って、HTML、CSS の学習を行います。\n",
    "\n",
    "<https://learn.microsoft.com/ja-jp/training/paths/build-web-pages-html-css-for-beginners/>\n"
   ]
  },
  {
   "cell_type": "markdown",
   "metadata": {},
   "source": [
    "## 用語を理解する\n",
    "\n",
    "<https://learn.microsoft.com/ja-jp/training/modules/build-first-html-webpage/2-understand-terminology>\n",
    "\n",
    "### HTML\n"
   ]
  },
  {
   "cell_type": "code",
   "execution_count": 1,
   "metadata": {
    "dotnet_interactive": {
     "language": "html"
    },
    "polyglot_notebook": {
     "kernelName": "html"
    }
   },
   "outputs": [
    {
     "data": {
      "text/html": [
       "<strong>This is blod text</strong>\r\n"
      ]
     },
     "metadata": {},
     "output_type": "display_data"
    }
   ],
   "source": [
    "<strong>This is blod text</strong>\n"
   ]
  },
  {
   "cell_type": "markdown",
   "metadata": {},
   "source": [
    "## コア HTML を詳しく見る\n",
    "\n",
    "### タグと要素の概要\n"
   ]
  },
  {
   "cell_type": "code",
   "execution_count": 2,
   "metadata": {
    "dotnet_interactive": {
     "language": "html"
    },
    "polyglot_notebook": {
     "kernelName": "html"
    }
   },
   "outputs": [
    {
     "data": {
      "text/html": [
       "<h1>Resume</h1>\r\n"
      ]
     },
     "metadata": {},
     "output_type": "display_data"
    }
   ],
   "source": [
    "<h1>Resume</h1>\n"
   ]
  }
 ],
 "metadata": {
  "kernelspec": {
   "display_name": ".NET (C#)",
   "language": "C#",
   "name": ".net-csharp"
  },
  "language_info": {
   "name": "polyglot-notebook"
  },
  "polyglot_notebook": {
   "kernelInfo": {
    "defaultKernelName": "html",
    "items": [
     {
      "aliases": [],
      "languageName": "html",
      "name": "html"
     }
    ]
   }
  }
 },
 "nbformat": 4,
 "nbformat_minor": 2
}
