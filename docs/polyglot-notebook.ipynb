{
 "cells": [
  {
   "cell_type": "markdown",
   "metadata": {},
   "source": [
    "# 最初の HTML Web ページを作成する\n",
    "\n",
    "Microsoft Learn のトレーニングに従って、HTML、CSS の学習を行います。\n",
    "\n",
    "<https://learn.microsoft.com/ja-jp/training/paths/build-web-pages-html-css-for-beginners/>\n"
   ]
  },
  {
   "cell_type": "markdown",
   "metadata": {},
   "source": [
    "## 用語を理解する\n",
    "\n",
    "<https://learn.microsoft.com/ja-jp/training/modules/build-first-html-webpage/2-understand-terminology>\n",
    "\n",
    "### HTML\n"
   ]
  },
  {
   "cell_type": "code",
   "execution_count": 6,
   "metadata": {
    "dotnet_interactive": {
     "language": "html"
    },
    "polyglot_notebook": {
     "kernelName": "html"
    }
   },
   "outputs": [
    {
     "data": {
      "text/html": [
       "<strong>This is blod text</strong>\n"
      ]
     },
     "metadata": {},
     "output_type": "display_data"
    }
   ],
   "source": [
    "<strong>This is blod text</strong>\n"
   ]
  },
  {
   "cell_type": "markdown",
   "metadata": {},
   "source": [
    "## コア HTML を詳しく見る\n",
    "\n",
    "<https://learn.microsoft.com/ja-jp/training/modules/build-first-html-webpage/3-explore-core-html>\n",
    "\n",
    "### タグと要素の概要\n"
   ]
  },
  {
   "cell_type": "code",
   "execution_count": 7,
   "metadata": {
    "dotnet_interactive": {
     "language": "html"
    },
    "polyglot_notebook": {
     "kernelName": "html"
    }
   },
   "outputs": [
    {
     "data": {
      "text/html": [
       "<h1>Resume</h1>\n"
      ]
     },
     "metadata": {},
     "output_type": "display_data"
    }
   ],
   "source": [
    "<h1>Resume</h1>\n"
   ]
  },
  {
   "cell_type": "markdown",
   "metadata": {},
   "source": [
    "## 演習: HTML ページを作成する\n",
    "\n",
    "<https://learn.microsoft.com/ja-jp/training/modules/build-first-html-webpage/4-exercise-create-html-page>\n",
    "\n",
    "### HTML を追加してページの構造を作成する\n"
   ]
  },
  {
   "cell_type": "code",
   "execution_count": 8,
   "metadata": {
    "dotnet_interactive": {
     "language": "html"
    },
    "polyglot_notebook": {
     "kernelName": "html"
    }
   },
   "outputs": [
    {
     "data": {
      "text/html": [
       "<html>\n",
       "<head>\n",
       "  <title>Your Name resume</title>\n",
       "</head>\n",
       "<body>\n",
       "  <h1>My Name</h1>\n",
       "  <!-- email address -->\n",
       "  <h2>Social Media</h2>\n",
       "  <!-- social media -->\n",
       "  <h2>Education</h2>\n",
       "  <!-- education -->\n",
       "  <h2>Experience</h2>\n",
       "  <!-- experience -->\n",
       "</body>\n",
       "</html>"
      ]
     },
     "metadata": {},
     "output_type": "display_data"
    }
   ],
   "source": [
    "<html>\n",
    "<head>\n",
    "  <title>Your Name resume</title>\n",
    "</head>\n",
    "<body>\n",
    "  <h1>My Name</h1>\n",
    "  <!-- email address -->\n",
    "  <h2>Social Media</h2>\n",
    "  <!-- social media -->\n",
    "  <h2>Education</h2>\n",
    "  <!-- education -->\n",
    "  <h2>Experience</h2>\n",
    "  <!-- experience -->\n",
    "</body>\n",
    "</html>"
   ]
  },
  {
   "cell_type": "markdown",
   "metadata": {},
   "source": [
    "## 画像内のリンク一覧を詳しく見る\n",
    "\n",
    "<https://learn.microsoft.com/ja-jp/training/modules/build-first-html-webpage/6-research-links-lists-images>\n",
    "\n",
    "### ハイパーリンク\n"
   ]
  },
  {
   "cell_type": "code",
   "execution_count": 9,
   "metadata": {
    "dotnet_interactive": {
     "language": "html"
    },
    "polyglot_notebook": {
     "kernelName": "html"
    }
   },
   "outputs": [
    {
     "data": {
      "text/html": [
       "<a href=\"some url\">clickable text</a>"
      ]
     },
     "metadata": {},
     "output_type": "display_data"
    }
   ],
   "source": [
    "<a href=\"some url\">clickable text</a>"
   ]
  },
  {
   "cell_type": "markdown",
   "metadata": {},
   "source": [
    "### リソース インジケーター\n"
   ]
  },
  {
   "cell_type": "code",
   "execution_count": 10,
   "metadata": {
    "dotnet_interactive": {
     "language": "html"
    },
    "polyglot_notebook": {
     "kernelName": "html"
    }
   },
   "outputs": [
    {
     "data": {
      "text/html": [
       "<a href=\"/\">Microsoft Technical Documentation</a>"
      ]
     },
     "metadata": {},
     "output_type": "display_data"
    }
   ],
   "source": [
    "<a href=\"/\">Microsoft Technical Documentation</a>"
   ]
  },
  {
   "cell_type": "code",
   "execution_count": 11,
   "metadata": {
    "dotnet_interactive": {
     "language": "html"
    },
    "polyglot_notebook": {
     "kernelName": "html"
    }
   },
   "outputs": [
    {
     "data": {
      "text/html": [
       "<a href=\"mailto:someone@example.com\">Email us!</a>"
      ]
     },
     "metadata": {},
     "output_type": "display_data"
    }
   ],
   "source": [
    "<a href=\"mailto:someone@example.com\">Email us!</a>"
   ]
  },
  {
   "cell_type": "markdown",
   "metadata": {},
   "source": [
    "### 画像\n"
   ]
  },
  {
   "cell_type": "code",
   "execution_count": 12,
   "metadata": {
    "dotnet_interactive": {
     "language": "html"
    },
    "polyglot_notebook": {
     "kernelName": "html"
    }
   },
   "outputs": [
    {
     "data": {
      "text/html": [
       "<img src=\"headshot.png\" alt=\"Picture of an employee.\">"
      ]
     },
     "metadata": {},
     "output_type": "display_data"
    }
   ],
   "source": [
    "<img src=\"headshot.png\" alt=\"Picture of an employee.\">"
   ]
  },
  {
   "cell_type": "markdown",
   "metadata": {},
   "source": [
    "### リストの作成\n"
   ]
  },
  {
   "cell_type": "code",
   "execution_count": 14,
   "metadata": {
    "dotnet_interactive": {
     "language": "html"
    },
    "polyglot_notebook": {
     "kernelName": "html"
    }
   },
   "outputs": [
    {
     "data": {
      "text/html": [
       "<ul>\n",
       "<li>First item</li>\n",
       "<li>Second item</li>\n",
       "<li>Third item</li>\n",
       "</ul>"
      ]
     },
     "metadata": {},
     "output_type": "display_data"
    }
   ],
   "source": [
    "<ul>\n",
    "<li>First item</li>\n",
    "<li>Second item</li>\n",
    "<li>Third item</li>\n",
    "</ul>"
   ]
  },
  {
   "cell_type": "code",
   "execution_count": 15,
   "metadata": {
    "dotnet_interactive": {
     "language": "html"
    },
    "polyglot_notebook": {
     "kernelName": "html"
    }
   },
   "outputs": [
    {
     "data": {
      "text/html": [
       "<ol>\n",
       "<li>First item</li>\n",
       "<li>Second item</li>\n",
       "<li>Third item</li>\n",
       "</ol>"
      ]
     },
     "metadata": {},
     "output_type": "display_data"
    }
   ],
   "source": [
    "<ol>\n",
    "<li>First item</li>\n",
    "<li>Second item</li>\n",
    "<li>Third item</li>\n",
    "</ol>"
   ]
  },
  {
   "cell_type": "markdown",
   "metadata": {},
   "source": [
    "## 演習: リンクを一覧表示する\n",
    "\n",
    "<https://learn.microsoft.com/ja-jp/training/modules/build-first-html-webpage/7-exercise-lists-links>\n",
    "\n",
    "### メールアドレスとソーシャルメディアを追加する\n"
   ]
  },
  {
   "cell_type": "code",
   "execution_count": 16,
   "metadata": {
    "dotnet_interactive": {
     "language": "html"
    },
    "polyglot_notebook": {
     "kernelName": "html"
    }
   },
   "outputs": [
    {
     "data": {
      "text/html": [
       "<a href=\"mailto:your-email@example.com\">your-email@example.com</a>"
      ]
     },
     "metadata": {},
     "output_type": "display_data"
    }
   ],
   "source": [
    "<a href=\"mailto:your-email@example.com\">your-email@example.com</a>"
   ]
  },
  {
   "cell_type": "code",
   "execution_count": 17,
   "metadata": {
    "dotnet_interactive": {
     "language": "html"
    },
    "polyglot_notebook": {
     "kernelName": "html"
    }
   },
   "outputs": [
    {
     "data": {
      "text/html": [
       "<ul>\n",
       "<li><a href=\"https://github.com/microsoft>\">GitHub</a></li>\n",
       "<li><a href=\"https://www.linkedin.com/company/microsoft>\">LinkedIn</a></li>\n",
       "<li><a href=\"https://twitter.com/microsoft>\">Twitter</a></li>\n",
       "</ul>"
      ]
     },
     "metadata": {},
     "output_type": "display_data"
    }
   ],
   "source": [
    "<ul>\n",
    "<li><a href=\"https://github.com/microsoft>\">GitHub</a></li>\n",
    "<li><a href=\"https://www.linkedin.com/company/microsoft>\">LinkedIn</a></li>\n",
    "<li><a href=\"https://twitter.com/microsoft>\">Twitter</a></li>\n",
    "</ul>"
   ]
  },
  {
   "cell_type": "markdown",
   "metadata": {},
   "source": [
    "### 学歴と経験の追加\n"
   ]
  },
  {
   "cell_type": "code",
   "execution_count": 18,
   "metadata": {
    "dotnet_interactive": {
     "language": "html"
    },
    "polyglot_notebook": {
     "kernelName": "html"
    }
   },
   "outputs": [
    {
     "data": {
      "text/html": [
       "<h3>School name</h3>\n",
       "<h4>Major</h4>\n",
       "<ul>\n",
       "    <li>GPA: 4.0</li>\n",
       "    <li>Years attended</li>\n",
       "</ul>"
      ]
     },
     "metadata": {},
     "output_type": "display_data"
    }
   ],
   "source": [
    "<h3>School name</h3>\n",
    "<h4>Major</h4>\n",
    "<ul>\n",
    "    <li>GPA: 4.0</li>\n",
    "    <li>Years attended</li>\n",
    "</ul>"
   ]
  },
  {
   "cell_type": "code",
   "execution_count": 19,
   "metadata": {
    "dotnet_interactive": {
     "language": "html"
    },
    "polyglot_notebook": {
     "kernelName": "html"
    }
   },
   "outputs": [
    {
     "data": {
      "text/html": [
       "<h3>Company name</h3>\n",
       "<h4>Title</h4>\n",
       "<h4>Dates</h4>\n",
       "<ul>\n",
       "    <li>Cool accomplishment</li>\n",
       "    <li>Cool accomplishment</li>\n",
       "</ul>\n",
       "\n",
       "<h3>Cool hackathon</h3>\n",
       "<h4>Project title</h4>\n",
       "<h4>Dates</h4>\n",
       "<ul>\n",
       "    <li>Cool accomplishment</li>\n",
       "    <li>Cool accomplishment</li>\n",
       "</ul>"
      ]
     },
     "metadata": {},
     "output_type": "display_data"
    }
   ],
   "source": [
    "<h3>Company name</h3>\n",
    "<h4>Title</h4>\n",
    "<h4>Dates</h4>\n",
    "<ul>\n",
    "    <li>Cool accomplishment</li>\n",
    "    <li>Cool accomplishment</li>\n",
    "</ul>\n",
    "\n",
    "<h3>Cool hackathon</h3>\n",
    "<h4>Project title</h4>\n",
    "<h4>Dates</h4>\n",
    "<ul>\n",
    "    <li>Cool accomplishment</li>\n",
    "    <li>Cool accomplishment</li>\n",
    "</ul>"
   ]
  }
 ],
 "metadata": {
  "kernelspec": {
   "display_name": ".NET (C#)",
   "language": "C#",
   "name": ".net-csharp"
  },
  "language_info": {
   "name": "polyglot-notebook"
  },
  "polyglot_notebook": {
   "kernelInfo": {
    "defaultKernelName": "html",
    "items": [
     {
      "aliases": [],
      "languageName": "html",
      "name": "html"
     }
    ]
   }
  }
 },
 "nbformat": 4,
 "nbformat_minor": 2
}
